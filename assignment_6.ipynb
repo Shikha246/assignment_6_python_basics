{
 "cells": [
  {
   "cell_type": "markdown",
   "id": "4c60ef7c",
   "metadata": {},
   "source": [
    "## 1. What are escape characters, and how do you use them?"
   ]
  },
  {
   "cell_type": "markdown",
   "id": "d21b9440",
   "metadata": {},
   "source": [
    "To insert the character that are illegal in the string we use escape characters.\n",
    "\n",
    "We use backward slash \\ followed by the character we want to insert.\n",
    "eg:\n",
    "\"This is shikha\\'s laptop\""
   ]
  },
  {
   "cell_type": "code",
   "execution_count": 1,
   "id": "25e2cc07",
   "metadata": {},
   "outputs": [
    {
     "data": {
      "text/plain": [
       "\"This is shikha's laptop\""
      ]
     },
     "execution_count": 1,
     "metadata": {},
     "output_type": "execute_result"
    }
   ],
   "source": [
    "\"This is shikha\\'s laptop\""
   ]
  },
  {
   "cell_type": "markdown",
   "id": "2889554c",
   "metadata": {},
   "source": [
    "## 2. What do the escape characters n and t stand for?"
   ]
  },
  {
   "cell_type": "markdown",
   "id": "e1231d5a",
   "metadata": {},
   "source": [
    "\\n stands for new line\n",
    "\\t stands for tab"
   ]
  },
  {
   "cell_type": "code",
   "execution_count": 3,
   "id": "6f18ef34",
   "metadata": {},
   "outputs": [
    {
     "name": "stdout",
     "output_type": "stream",
     "text": [
      "Shikha\n",
      "ramrakhyani\n"
     ]
    }
   ],
   "source": [
    "print(\"Shikha\\nramrakhyani\")"
   ]
  },
  {
   "cell_type": "code",
   "execution_count": 4,
   "id": "ad234964",
   "metadata": {},
   "outputs": [
    {
     "name": "stdout",
     "output_type": "stream",
     "text": [
      "shikha\tramrakhyani\n"
     ]
    }
   ],
   "source": [
    "print(\"shikha\\tramrakhyani\")"
   ]
  },
  {
   "cell_type": "markdown",
   "id": "3a7d0eb1",
   "metadata": {},
   "source": [
    "## 3. What is the way to include backslash characters in a string?"
   ]
  },
  {
   "cell_type": "markdown",
   "id": "28e0c03a",
   "metadata": {},
   "source": [
    "You need to add two backslash in the string"
   ]
  },
  {
   "cell_type": "code",
   "execution_count": 5,
   "id": "a63ad601",
   "metadata": {},
   "outputs": [
    {
     "name": "stdout",
     "output_type": "stream",
     "text": [
      "I am entering backslash \\\n"
     ]
    }
   ],
   "source": [
    "print(\"I am entering backslash \\\\\")"
   ]
  },
  {
   "cell_type": "markdown",
   "id": "285e7ec1",
   "metadata": {},
   "source": [
    "## 4. The string &quot;Howl&#39;s Moving Castle&quot; is a correct value. Why isn&#39;t the single quote character in the word Howl&#39;s not escaped a problem?"
   ]
  },
  {
   "cell_type": "markdown",
   "id": "55454fa4",
   "metadata": {},
   "source": [
    "In order to print ' we need backward slash not pipeline"
   ]
  },
  {
   "cell_type": "code",
   "execution_count": 6,
   "id": "e0c32c61",
   "metadata": {},
   "outputs": [
    {
     "data": {
      "text/plain": [
       "\"How's Moving Castle\""
      ]
     },
     "execution_count": 6,
     "metadata": {},
     "output_type": "execute_result"
    }
   ],
   "source": [
    "\"How\\'s Moving Castle\""
   ]
  },
  {
   "cell_type": "markdown",
   "id": "d7244189",
   "metadata": {},
   "source": [
    "## 5. How do you write a string of newlines if you don&#39;t want to use the n character?"
   ]
  },
  {
   "cell_type": "code",
   "execution_count": null,
   "id": "2a707dc8",
   "metadata": {},
   "outputs": [],
   "source": [
    "we can use \"\"\" write your string inside triple quotes\"\"\""
   ]
  },
  {
   "cell_type": "code",
   "execution_count": 7,
   "id": "e782ce7b",
   "metadata": {},
   "outputs": [
    {
     "name": "stdout",
     "output_type": "stream",
     "text": [
      "I\n",
      "am \n",
      "writing\n",
      "in \n",
      "newline\n"
     ]
    }
   ],
   "source": [
    "print(\"\"\"I\n",
    "am \n",
    "writing\n",
    "in \n",
    "newline\"\"\")"
   ]
  },
  {
   "cell_type": "markdown",
   "id": "9eae43f2",
   "metadata": {},
   "source": [
    "## 6. What are the values of the given expressions?\n",
    "\n",
    "&#39;Hello, world!&#39;[1]\n",
    "\n",
    "&#39;Hello, world!&#39;[0:5]\n",
    "\n",
    "&#39;Hello, world!&#39;[:5]\n",
    "\n",
    "&#39;Hello, world!&#39;[3:]"
   ]
  },
  {
   "cell_type": "code",
   "execution_count": 8,
   "id": "0eceb8a9",
   "metadata": {},
   "outputs": [
    {
     "data": {
      "text/plain": [
       "'e'"
      ]
     },
     "execution_count": 8,
     "metadata": {},
     "output_type": "execute_result"
    }
   ],
   "source": [
    "'Hello, world!'[1]"
   ]
  },
  {
   "cell_type": "code",
   "execution_count": 9,
   "id": "7f95afa2",
   "metadata": {},
   "outputs": [
    {
     "data": {
      "text/plain": [
       "'Hello'"
      ]
     },
     "execution_count": 9,
     "metadata": {},
     "output_type": "execute_result"
    }
   ],
   "source": [
    "'Hello, world!'[0:5]"
   ]
  },
  {
   "cell_type": "code",
   "execution_count": 10,
   "id": "b4e40dab",
   "metadata": {},
   "outputs": [
    {
     "data": {
      "text/plain": [
       "'Hello'"
      ]
     },
     "execution_count": 10,
     "metadata": {},
     "output_type": "execute_result"
    }
   ],
   "source": [
    "'Hello, world!'[:5]"
   ]
  },
  {
   "cell_type": "code",
   "execution_count": 11,
   "id": "2794eb95",
   "metadata": {},
   "outputs": [
    {
     "data": {
      "text/plain": [
       "'lo, world!'"
      ]
     },
     "execution_count": 11,
     "metadata": {},
     "output_type": "execute_result"
    }
   ],
   "source": [
    "'Hello, world!'[3:]"
   ]
  },
  {
   "cell_type": "markdown",
   "id": "e1e2bda7",
   "metadata": {},
   "source": [
    "## 7. What are the values of the following expressions?\n",
    "\n",
    "&#39;Hello&#39;.upper()\n",
    "\n",
    "&#39;Hello&#39;.upper().isupper()\n",
    "\n",
    "&#39;Hello&#39;.upper().lower()"
   ]
  },
  {
   "cell_type": "code",
   "execution_count": 12,
   "id": "3804c32b",
   "metadata": {},
   "outputs": [
    {
     "data": {
      "text/plain": [
       "'HELLO'"
      ]
     },
     "execution_count": 12,
     "metadata": {},
     "output_type": "execute_result"
    }
   ],
   "source": [
    "'Hello'.upper()"
   ]
  },
  {
   "cell_type": "code",
   "execution_count": 13,
   "id": "965884a6",
   "metadata": {},
   "outputs": [
    {
     "data": {
      "text/plain": [
       "True"
      ]
     },
     "execution_count": 13,
     "metadata": {},
     "output_type": "execute_result"
    }
   ],
   "source": [
    "'Hello'.upper().isupper()"
   ]
  },
  {
   "cell_type": "code",
   "execution_count": 14,
   "id": "976137d4",
   "metadata": {},
   "outputs": [
    {
     "data": {
      "text/plain": [
       "'hello'"
      ]
     },
     "execution_count": 14,
     "metadata": {},
     "output_type": "execute_result"
    }
   ],
   "source": [
    "'Hello'.upper().lower()"
   ]
  },
  {
   "cell_type": "markdown",
   "id": "179ad684",
   "metadata": {},
   "source": [
    "## 8. What are the values of the following expressions?\n",
    "\n",
    "&#39;Remember, remember, the fifth of July.&#39;.split()\n",
    "\n",
    "&#39;-&#39;.join(&#39;There can only one.&#39;.split())"
   ]
  },
  {
   "cell_type": "code",
   "execution_count": 15,
   "id": "ead12bf5",
   "metadata": {},
   "outputs": [
    {
     "data": {
      "text/plain": [
       "['Remember,', 'remember,', 'the', 'fifth', 'of', 'July.']"
      ]
     },
     "execution_count": 15,
     "metadata": {},
     "output_type": "execute_result"
    }
   ],
   "source": [
    "'Remember, remember, the fifth of July.'.split()"
   ]
  },
  {
   "cell_type": "code",
   "execution_count": 16,
   "id": "5fdaeca7",
   "metadata": {},
   "outputs": [
    {
     "data": {
      "text/plain": [
       "'There-can-only-one.'"
      ]
     },
     "execution_count": 16,
     "metadata": {},
     "output_type": "execute_result"
    }
   ],
   "source": [
    "'-'.join('There can only one.'.split())"
   ]
  },
  {
   "cell_type": "markdown",
   "id": "c543db52",
   "metadata": {},
   "source": [
    "## 9. What are the methods for right-justifying, left-justifying, and centering a string?"
   ]
  },
  {
   "cell_type": "code",
   "execution_count": 20,
   "id": "3c13c3ec",
   "metadata": {},
   "outputs": [],
   "source": [
    "txt=\"shikha\""
   ]
  },
  {
   "cell_type": "code",
   "execution_count": 21,
   "id": "52bb1d59",
   "metadata": {},
   "outputs": [
    {
     "data": {
      "text/plain": [
       "'       shikha       '"
      ]
     },
     "execution_count": 21,
     "metadata": {},
     "output_type": "execute_result"
    }
   ],
   "source": [
    "#centering a string\n",
    "txt.center(20)"
   ]
  },
  {
   "cell_type": "code",
   "execution_count": 22,
   "id": "483f3e9e",
   "metadata": {},
   "outputs": [
    {
     "data": {
      "text/plain": [
       "'              shikha'"
      ]
     },
     "execution_count": 22,
     "metadata": {},
     "output_type": "execute_result"
    }
   ],
   "source": [
    "#right-justifying the string\n",
    "txt.rjust(20)"
   ]
  },
  {
   "cell_type": "code",
   "execution_count": 23,
   "id": "5504a7f2",
   "metadata": {},
   "outputs": [
    {
     "data": {
      "text/plain": [
       "'shikha    '"
      ]
     },
     "execution_count": 23,
     "metadata": {},
     "output_type": "execute_result"
    }
   ],
   "source": [
    "#left-justifying the string\n",
    "txt.ljust(10)"
   ]
  },
  {
   "cell_type": "markdown",
   "id": "ad4eec7e",
   "metadata": {},
   "source": [
    "## 10. What is the best way to remove whitespace characters from the start or end?"
   ]
  },
  {
   "cell_type": "code",
   "execution_count": null,
   "id": "b8c2b623",
   "metadata": {},
   "outputs": [],
   "source": [
    "strip()"
   ]
  },
  {
   "cell_type": "code",
   "execution_count": 17,
   "id": "3f6d8324",
   "metadata": {},
   "outputs": [
    {
     "data": {
      "text/plain": [
       "'HI MY NAME IS SHIKHA'"
      ]
     },
     "execution_count": 17,
     "metadata": {},
     "output_type": "execute_result"
    }
   ],
   "source": [
    "\"    HI MY NAME IS SHIKHA       \".strip()"
   ]
  },
  {
   "cell_type": "code",
   "execution_count": null,
   "id": "8e1344d5",
   "metadata": {},
   "outputs": [],
   "source": []
  }
 ],
 "metadata": {
  "kernelspec": {
   "display_name": "Python 3 (ipykernel)",
   "language": "python",
   "name": "python3"
  },
  "language_info": {
   "codemirror_mode": {
    "name": "ipython",
    "version": 3
   },
   "file_extension": ".py",
   "mimetype": "text/x-python",
   "name": "python",
   "nbconvert_exporter": "python",
   "pygments_lexer": "ipython3",
   "version": "3.9.7"
  }
 },
 "nbformat": 4,
 "nbformat_minor": 5
}
